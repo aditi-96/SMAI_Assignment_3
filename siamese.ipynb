{
 "cells": [
  {
   "cell_type": "markdown",
   "metadata": {
    "id": "DyHoKScqyVWc"
   },
   "source": [
    "# Siamese Network - MNIST Dataset"
   ]
  },
  {
   "cell_type": "code",
   "execution_count": 36,
   "metadata": {
    "id": "R-P7PpwQe1mE"
   },
   "outputs": [],
   "source": [
    "from tensorflow.keras.utils import to_categorical\n",
    "import tensorflow as tf\n",
    "from tensorflow import keras\n",
    "from tensorflow.keras import layers, Input, optimizers, initializers\n",
    "from keras.datasets import mnist\n",
    "from keras.models import Model, Sequential\n",
    "import numpy as np\n",
    "from sklearn.model_selection import train_test_split\n",
    "from matplotlib import pyplot as plt\n",
    "import keras.backend as K\n"
   ]
  },
  {
   "cell_type": "code",
   "execution_count": 37,
   "metadata": {
    "id": "mO9tYmfylHR-"
   },
   "outputs": [],
   "source": [
    "(xTrain, yTrain), (xTest, yTest) = mnist.load_data()"
   ]
  },
  {
   "cell_type": "code",
   "execution_count": 38,
   "metadata": {
    "id": "bi-z7nZ8la5l"
   },
   "outputs": [],
   "source": [
    "xTrain=np.concatenate((xTrain,xTest))\n",
    "yTrain=np.concatenate((yTrain,yTest))"
   ]
  },
  {
   "cell_type": "code",
   "execution_count": 72,
   "metadata": {
    "id": "q7OzR8mZljrd"
   },
   "outputs": [],
   "source": [
    "xTrain=xTrain.astype('float32')/255"
   ]
  },
  {
   "cell_type": "code",
   "execution_count": 73,
   "metadata": {
    "id": "x8tpgkU8sCw5"
   },
   "outputs": [],
   "source": [
    "def make_pairs(labelList, imageArr, numLabels):\n",
    "  pairs0=[]\n",
    "  pairs1=[]\n",
    "  pairLabels=[]\n",
    "  for i in range(numLabels):\n",
    "    curList=labelList[i]\n",
    "    for idx in range(len(curList)):\n",
    "      anchorImg=imageArr[curList[idx]]\n",
    "\n",
    "      posIdx=curList[(idx+1)%len(curList)]\n",
    "      posImg=imageArr[idx]\n",
    "\n",
    "      pairs0.append(anchorImg)\n",
    "      pairs1.append(posImg)      \n",
    "      pairLabels.append(1)\n",
    "\n",
    "      negLabel=np.random.choice(list(range(numLabels)), 2)\n",
    "      negLabel=negLabel[0] if negLabel[0]!=idx else negLabel[1]\n",
    "      negIdx=np.random.choice(labelList[negLabel], 1)\n",
    "      negImg=imageArr[negIdx[0]]\n",
    "\n",
    "      pairs0.append(anchorImg)\n",
    "      pairs1.append(negImg)      \n",
    "      pairLabels.append(0)\n",
    "\n",
    "  pairs0=np.array(pairs0, dtype='float32')\n",
    "  pairs1=np.array(pairs1, dtype='float32')\n",
    "  pairLabels=np.array(pairLabels)\n",
    "\n",
    "  return pairs0, pairs1, pairLabels"
   ]
  },
  {
   "cell_type": "code",
   "execution_count": 74,
   "metadata": {
    "id": "Lr6dFbSOc4-F"
   },
   "outputs": [],
   "source": [
    "#Divide images by labels\n",
    "numLabels=len(np.unique(yTrain))\n",
    "labelList=[]\n",
    "labelList=[np.where(yTrain==i)[0] for i in range(numLabels)]\n",
    "pairs0, pairs1, pairLabels = make_pairs(labelList, xTrain, numLabels)"
   ]
  },
  {
   "cell_type": "code",
   "execution_count": 118,
   "metadata": {
    "id": "3yz-azkquSFO"
   },
   "outputs": [],
   "source": [
    "def tripletLoss(x, alpha = 0.3):\n",
    "    anchor = x[0]\n",
    "    positive = x[1]\n",
    "    negative = x[2]\n",
    "    pos_dist = K.abs(anchor-positive)\n",
    "    neg_dist = K.abs(anchor-negative)\n",
    "    loss = pos_dist-neg_dist+alpha\n",
    "    loss = K.maximum(loss,0.0)\n",
    "    return loss\n",
    "\n",
    "def embeddingModel(inputShape):\n",
    "  model=Sequential()\n",
    "  model.add(Input(shape=inputShape))\n",
    "\n",
    "  model.add(layers.Conv2D(32, (3, 3), activation='relu'))\n",
    "  model.add(layers.BatchNormalization())\n",
    "  model.add(layers.Activation(activation='relu'))\n",
    "\n",
    "  model.add(layers.Conv2D(64, (3, 3), activation='relu'))\n",
    "  model.add(layers.BatchNormalization())\n",
    "  model.add(layers.Activation(activation='relu'))\n",
    "  model.add(layers.MaxPooling2D())\n",
    "\n",
    "  model.add(layers.Flatten())\n",
    "  model.add(layers.Dense(128))\n",
    "  model.add(layers.BatchNormalization())\n",
    "  model.add(layers.Activation(activation='relu'))\n",
    "\n",
    "  return model\n",
    "\n",
    "def twoInputHead(inputShape):\n",
    "  inp1 = Input(shape=inputShape)\n",
    "  inp2 = Input(shape=inputShape)\n",
    "\n",
    "  layer = layers.Lambda(lambda x: K.abs(x[0]-x[1]))\n",
    "  # layer = layers.Lambda(lambda x: K.sum(K.square(x[0]-x[1]),axis=1, keepdims=True))\n",
    "  dist=layer([inp1,inp2])\n",
    "  out = layers.Dense(1,activation='sigmoid')(dist)\n",
    "\n",
    "  return Model([inp1, inp2], out)\n",
    "\n",
    "def threeInputHead(inputShape):\n",
    "  inp1 = Input(shape=inputShape)  #anchor\n",
    "  inp2 = Input(shape=inputShape)  #pos\n",
    "  inp3 = Input(shape=inputShape)  #neg\n",
    "\n",
    "  # layer = layers.Lambda(lambda x: K.sum(K.square(x[0]-x[1])))\n",
    "  # layer = layers.Lambda(lambda x: K.abs(x[0]-x[1]))\n",
    "  # posDist=layer([inp1,inp2])\n",
    "  # negDist=layer([inp1,inp3])\n",
    "\n",
    "  out=layers.Lambda(tripletLoss)([inp1, inp2, inp3])\n",
    "  return Model(inputs = [inp1, inp2, inp3], outputs = out)\n",
    "\n",
    "def pair_siamese(inputShape):\n",
    "\n",
    "  baseModel=embeddingModel(inputShape)\n",
    "  print(baseModel.summary())\n",
    "\n",
    "  newShape=baseModel.output_shape[1]\n",
    "\n",
    "  headModel=twoInputHead((newShape))\n",
    "  print(headModel.summary())\n",
    "\n",
    "  input1 = Input(shape=inputShape)\n",
    "  input2 = Input(shape=inputShape)\n",
    "\n",
    "  embedding1 = baseModel(input1)\n",
    "  embedding2 = baseModel(input2)\n",
    "\n",
    "  out = headModel([embedding1, embedding2])\n",
    "\n",
    "  siameseNetwork = Model([input1, input2], out)\n",
    "  return siameseNetwork\n",
    "\n",
    "def triplet_siamese(inputShape):\n",
    "\n",
    "  baseModel=embeddingModel(inputShape)\n",
    "  print(baseModel.summary())\n",
    "\n",
    "  newShape=baseModel.output_shape[1]\n",
    "\n",
    "  headModel=threeInputHead((newShape))\n",
    "  print(headModel.summary())\n",
    "\n",
    "  input1 = Input(shape=inputShape)\n",
    "  input2 = Input(shape=inputShape)\n",
    "  input3 = Input(shape=inputShape)\n",
    "\n",
    "  embedding1 = baseModel(input1)\n",
    "  embedding2 = baseModel(input2)\n",
    "  embedding3 = baseModel(input3)\n",
    "\n",
    "  out = headModel([embedding1, embedding2, embedding3])\n",
    "  # out = layers.Lambda(tripletLoss)(out)\n",
    " \n",
    "  siameseNetwork = Model([input1, input2, input3], out)\n",
    "  return siameseNetwork"
   ]
  },
  {
   "cell_type": "code",
   "execution_count": 82,
   "metadata": {
    "colab": {
     "base_uri": "https://localhost:8080/"
    },
    "id": "A1wF1jf9-mF0",
    "outputId": "ef24cbdb-7736-4214-80e6-ab23024073e6"
   },
   "outputs": [
    {
     "name": "stdout",
     "output_type": "stream",
     "text": [
      "Model: \"sequential\"\n",
      "_________________________________________________________________\n",
      "Layer (type)                 Output Shape              Param #   \n",
      "=================================================================\n",
      "conv2d (Conv2D)              (None, 26, 26, 32)        320       \n",
      "_________________________________________________________________\n",
      "batch_normalization (BatchNo (None, 26, 26, 32)        128       \n",
      "_________________________________________________________________\n",
      "activation (Activation)      (None, 26, 26, 32)        0         \n",
      "_________________________________________________________________\n",
      "conv2d_1 (Conv2D)            (None, 24, 24, 64)        18496     \n",
      "_________________________________________________________________\n",
      "batch_normalization_1 (Batch (None, 24, 24, 64)        256       \n",
      "_________________________________________________________________\n",
      "activation_1 (Activation)    (None, 24, 24, 64)        0         \n",
      "_________________________________________________________________\n",
      "max_pooling2d (MaxPooling2D) (None, 12, 12, 64)        0         \n",
      "_________________________________________________________________\n",
      "flatten (Flatten)            (None, 9216)              0         \n",
      "_________________________________________________________________\n",
      "dense (Dense)                (None, 128)               1179776   \n",
      "_________________________________________________________________\n",
      "batch_normalization_2 (Batch (None, 128)               512       \n",
      "_________________________________________________________________\n",
      "activation_2 (Activation)    (None, 128)               0         \n",
      "=================================================================\n",
      "Total params: 1,199,488\n",
      "Trainable params: 1,199,040\n",
      "Non-trainable params: 448\n",
      "_________________________________________________________________\n",
      "None\n",
      "Model: \"model\"\n",
      "__________________________________________________________________________________________________\n",
      "Layer (type)                    Output Shape         Param #     Connected to                     \n",
      "==================================================================================================\n",
      "input_2 (InputLayer)            [(None, 128)]        0                                            \n",
      "__________________________________________________________________________________________________\n",
      "input_3 (InputLayer)            [(None, 128)]        0                                            \n",
      "__________________________________________________________________________________________________\n",
      "lambda (Lambda)                 (None, 128)          0           input_2[0][0]                    \n",
      "                                                                 input_3[0][0]                    \n",
      "__________________________________________________________________________________________________\n",
      "dense_1 (Dense)                 (None, 1)            129         lambda[0][0]                     \n",
      "==================================================================================================\n",
      "Total params: 129\n",
      "Trainable params: 129\n",
      "Non-trainable params: 0\n",
      "__________________________________________________________________________________________________\n",
      "None\n"
     ]
    }
   ],
   "source": [
    "K.clear_session()\n",
    "siamese_net = pair_siamese((28,28,1))"
   ]
  },
  {
   "cell_type": "markdown",
   "metadata": {
    "id": "QtEszDmRUIw1"
   },
   "source": [
    "## Contrastive Loss"
   ]
  },
  {
   "cell_type": "code",
   "execution_count": 83,
   "metadata": {
    "id": "IlV0C6z9XB1g"
   },
   "outputs": [],
   "source": [
    "def contrastiveLoss(trueLabel, predVal):\n",
    "  margin=1\n",
    "  trueLabel = tf.cast(trueLabel, predVal.dtype)\n",
    "  predValSq = K.square(predVal)\n",
    "  class1PredVal=K.square(margin-predValSq)\n",
    "  zero=tf.constant(0, predVal.dtype)\n",
    "  class1Loss=K.maximum(zero, class1PredVal)\n",
    "  loss = K.mean(trueLabel * class1Loss + (1 - trueLabel) * predValSq)\n",
    "  return 0.5*loss"
   ]
  },
  {
   "cell_type": "markdown",
   "metadata": {
    "id": "Izj9NdrMjmKQ"
   },
   "source": [
    "### Adam"
   ]
  },
  {
   "cell_type": "code",
   "execution_count": null,
   "metadata": {
    "id": "3goDK5-oYRgR"
   },
   "outputs": [],
   "source": [
    "siamese_net.compile(loss=contrastiveLoss,optimizer=keras.optimizers.Adam(learning_rate=0.001) ,metrics = ['accuracy'])"
   ]
  },
  {
   "cell_type": "code",
   "execution_count": null,
   "metadata": {
    "colab": {
     "base_uri": "https://localhost:8080/"
    },
    "id": "OnRURWHCYYut",
    "outputId": "14995228-2686-46c2-afe3-0c34382851fb"
   },
   "outputs": [
    {
     "name": "stdout",
     "output_type": "stream",
     "text": [
      "Epoch 1/10\n",
      "1532/1532 [==============================] - 18s 11ms/step - loss: 0.1940 - accuracy: 0.5060 - val_loss: 0.1855 - val_accuracy: 0.5008\n",
      "Epoch 2/10\n",
      "1532/1532 [==============================] - 17s 11ms/step - loss: 0.1838 - accuracy: 0.5091 - val_loss: 0.1819 - val_accuracy: 0.5200\n",
      "Epoch 3/10\n",
      "1532/1532 [==============================] - 17s 11ms/step - loss: 0.1762 - accuracy: 0.5432 - val_loss: 0.1768 - val_accuracy: 0.5743\n",
      "Epoch 4/10\n",
      "1532/1532 [==============================] - 17s 11ms/step - loss: 0.1573 - accuracy: 0.6197 - val_loss: 0.1647 - val_accuracy: 0.5981\n",
      "Epoch 5/10\n",
      "1532/1532 [==============================] - 17s 11ms/step - loss: 0.1266 - accuracy: 0.7130 - val_loss: 0.1536 - val_accuracy: 0.6489\n",
      "Epoch 6/10\n",
      "1532/1532 [==============================] - 17s 11ms/step - loss: 0.0956 - accuracy: 0.7930 - val_loss: 0.1474 - val_accuracy: 0.6696\n",
      "Epoch 7/10\n",
      "1532/1532 [==============================] - 17s 11ms/step - loss: 0.0700 - accuracy: 0.8551 - val_loss: 0.1426 - val_accuracy: 0.6828\n",
      "Epoch 8/10\n",
      "1532/1532 [==============================] - 17s 11ms/step - loss: 0.0537 - accuracy: 0.8905 - val_loss: 0.1417 - val_accuracy: 0.6926\n",
      "Epoch 9/10\n",
      "1532/1532 [==============================] - 17s 11ms/step - loss: 0.0422 - accuracy: 0.9149 - val_loss: 0.1407 - val_accuracy: 0.6891\n",
      "Epoch 10/10\n",
      "1532/1532 [==============================] - 17s 11ms/step - loss: 0.0352 - accuracy: 0.9290 - val_loss: 0.1392 - val_accuracy: 0.6972\n"
     ]
    },
    {
     "data": {
      "text/plain": [
       "<tensorflow.python.keras.callbacks.History at 0x7f2940045dd0>"
      ]
     },
     "execution_count": 25,
     "metadata": {
      "tags": []
     },
     "output_type": "execute_result"
    }
   ],
   "source": [
    "K.clear_session()\n",
    "siamese_net.fit([pairs0,pairs1], pairLabels,\n",
    "          batch_size=64,\n",
    "          epochs=10,\n",
    "          validation_split=0.3)"
   ]
  },
  {
   "cell_type": "markdown",
   "metadata": {
    "id": "oMOM3hZ2jrEh"
   },
   "source": [
    "### RMSProp"
   ]
  },
  {
   "cell_type": "code",
   "execution_count": 46,
   "metadata": {
    "id": "zCbRpYSCjrEi"
   },
   "outputs": [],
   "source": [
    "siamese_net.compile(loss=contrastiveLoss,optimizer=keras.optimizers.RMSprop(learning_rate=0.001) ,metrics = ['accuracy'])"
   ]
  },
  {
   "cell_type": "code",
   "execution_count": 47,
   "metadata": {
    "colab": {
     "base_uri": "https://localhost:8080/"
    },
    "id": "OH7qYx_6jrEj",
    "outputId": "4bfcd307-93da-4c87-c92e-8f73325b2f62"
   },
   "outputs": [
    {
     "name": "stdout",
     "output_type": "stream",
     "text": [
      "Epoch 1/10\n",
      "1532/1532 [==============================] - 20s 12ms/step - loss: 0.1959 - accuracy: 0.5023 - val_loss: 0.1855 - val_accuracy: 0.5017\n",
      "Epoch 2/10\n",
      "1532/1532 [==============================] - 18s 12ms/step - loss: 0.1836 - accuracy: 0.5113 - val_loss: 0.1820 - val_accuracy: 0.5162\n",
      "Epoch 3/10\n",
      "1532/1532 [==============================] - 18s 12ms/step - loss: 0.1733 - accuracy: 0.5540 - val_loss: 0.1753 - val_accuracy: 0.5471\n",
      "Epoch 4/10\n",
      "1532/1532 [==============================] - 18s 12ms/step - loss: 0.1542 - accuracy: 0.6305 - val_loss: 0.1713 - val_accuracy: 0.6033\n",
      "Epoch 5/10\n",
      "1532/1532 [==============================] - 18s 12ms/step - loss: 0.1285 - accuracy: 0.7074 - val_loss: 0.1611 - val_accuracy: 0.6292\n",
      "Epoch 6/10\n",
      "1532/1532 [==============================] - 18s 12ms/step - loss: 0.1040 - accuracy: 0.7740 - val_loss: 0.1591 - val_accuracy: 0.6484\n",
      "Epoch 7/10\n",
      "1532/1532 [==============================] - 18s 12ms/step - loss: 0.0827 - accuracy: 0.8242 - val_loss: 0.1514 - val_accuracy: 0.6578\n",
      "Epoch 8/10\n",
      "1532/1532 [==============================] - 18s 12ms/step - loss: 0.0671 - accuracy: 0.8595 - val_loss: 0.1506 - val_accuracy: 0.6620\n",
      "Epoch 9/10\n",
      "1532/1532 [==============================] - 18s 12ms/step - loss: 0.0545 - accuracy: 0.8873 - val_loss: 0.1489 - val_accuracy: 0.6702\n",
      "Epoch 10/10\n",
      "1532/1532 [==============================] - 18s 12ms/step - loss: 0.0463 - accuracy: 0.9057 - val_loss: 0.1471 - val_accuracy: 0.6760\n"
     ]
    },
    {
     "data": {
      "text/plain": [
       "<tensorflow.python.keras.callbacks.History at 0x7f1b3e0b8f10>"
      ]
     },
     "execution_count": 47,
     "metadata": {
      "tags": []
     },
     "output_type": "execute_result"
    }
   ],
   "source": [
    "K.clear_session()\n",
    "siamese_net.fit([pairs0,pairs1], pairLabels,\n",
    "          batch_size=64,\n",
    "          epochs=10,\n",
    "          validation_split=0.3)"
   ]
  },
  {
   "cell_type": "markdown",
   "metadata": {
    "id": "2EVQwXeqkQ0t"
   },
   "source": [
    "### MiniBatch Gradient Descent"
   ]
  },
  {
   "cell_type": "code",
   "execution_count": 86,
   "metadata": {
    "id": "85WFd5SqkQ04"
   },
   "outputs": [],
   "source": [
    "K.clear_session()\n",
    "siamese_net.compile(loss=contrastiveLoss,optimizer=keras.optimizers.SGD(learning_rate=0.1) ,metrics = ['accuracy'])"
   ]
  },
  {
   "cell_type": "code",
   "execution_count": 87,
   "metadata": {
    "colab": {
     "base_uri": "https://localhost:8080/"
    },
    "id": "0ED7nCivkQ05",
    "outputId": "970a273a-62f7-4f2e-ef47-13c8ba398724"
   },
   "outputs": [
    {
     "name": "stdout",
     "output_type": "stream",
     "text": [
      "Epoch 1/10\n",
      "1532/1532 [==============================] - 18s 11ms/step - loss: 0.1875 - accuracy: 0.5234 - val_loss: 0.1836 - val_accuracy: 0.5204\n",
      "Epoch 2/10\n",
      "1532/1532 [==============================] - 17s 11ms/step - loss: 0.1786 - accuracy: 0.5354 - val_loss: 0.1807 - val_accuracy: 0.5244\n",
      "Epoch 3/10\n",
      "1532/1532 [==============================] - 17s 11ms/step - loss: 0.1705 - accuracy: 0.5697 - val_loss: 0.1880 - val_accuracy: 0.5636\n",
      "Epoch 4/10\n",
      "1532/1532 [==============================] - 17s 11ms/step - loss: 0.1591 - accuracy: 0.6173 - val_loss: 0.1755 - val_accuracy: 0.5761\n",
      "Epoch 5/10\n",
      "1532/1532 [==============================] - 17s 11ms/step - loss: 0.1462 - accuracy: 0.6597 - val_loss: 0.1718 - val_accuracy: 0.5970\n",
      "Epoch 6/10\n",
      "1532/1532 [==============================] - 17s 11ms/step - loss: 0.1350 - accuracy: 0.6918 - val_loss: 0.1688 - val_accuracy: 0.6097\n",
      "Epoch 7/10\n",
      "1532/1532 [==============================] - 17s 11ms/step - loss: 0.1227 - accuracy: 0.7247 - val_loss: 0.1837 - val_accuracy: 0.5666\n",
      "Epoch 8/10\n",
      "1532/1532 [==============================] - 17s 11ms/step - loss: 0.1097 - accuracy: 0.7591 - val_loss: 0.1675 - val_accuracy: 0.6375\n",
      "Epoch 9/10\n",
      "1532/1532 [==============================] - 17s 11ms/step - loss: 0.1006 - accuracy: 0.7814 - val_loss: 0.1617 - val_accuracy: 0.6442\n",
      "Epoch 10/10\n",
      "1532/1532 [==============================] - 17s 11ms/step - loss: 0.0879 - accuracy: 0.8109 - val_loss: 0.1595 - val_accuracy: 0.6435\n"
     ]
    },
    {
     "data": {
      "text/plain": [
       "<tensorflow.python.keras.callbacks.History at 0x7f1b23164e90>"
      ]
     },
     "execution_count": 87,
     "metadata": {
      "tags": []
     },
     "output_type": "execute_result"
    }
   ],
   "source": [
    "siamese_net.fit([pairs0,pairs1], pairLabels,\n",
    "          batch_size=64,\n",
    "          epochs=10,\n",
    "          validation_split=0.3)"
   ]
  },
  {
   "cell_type": "markdown",
   "metadata": {
    "id": "u0loSd4GN4Vx"
   },
   "source": [
    "## Binary cross entropy"
   ]
  },
  {
   "cell_type": "markdown",
   "metadata": {
    "id": "xYA_0W7gloGO"
   },
   "source": [
    "### Adam"
   ]
  },
  {
   "cell_type": "code",
   "execution_count": 55,
   "metadata": {
    "id": "yMFwJceRZgGo"
   },
   "outputs": [],
   "source": [
    "siamese_net.compile(loss='binary_crossentropy',optimizer=keras.optimizers.Adam(learning_rate=0.001) ,metrics = ['accuracy'])"
   ]
  },
  {
   "cell_type": "code",
   "execution_count": 56,
   "metadata": {
    "colab": {
     "base_uri": "https://localhost:8080/"
    },
    "id": "Y9sopex8N8_u",
    "outputId": "c94bb372-d3b6-427b-cd6c-ea8d3011de41"
   },
   "outputs": [
    {
     "name": "stdout",
     "output_type": "stream",
     "text": [
      "Epoch 1/10\n",
      "1532/1532 [==============================] - 19s 12ms/step - loss: 0.7244 - accuracy: 0.5087 - val_loss: 0.6918 - val_accuracy: 0.5294\n",
      "Epoch 2/10\n",
      "1532/1532 [==============================] - 18s 12ms/step - loss: 0.6870 - accuracy: 0.5468 - val_loss: 0.6860 - val_accuracy: 0.5486\n",
      "Epoch 3/10\n",
      "1532/1532 [==============================] - 17s 11ms/step - loss: 0.6753 - accuracy: 0.5759 - val_loss: 0.6802 - val_accuracy: 0.5674\n",
      "Epoch 4/10\n",
      "1532/1532 [==============================] - 17s 11ms/step - loss: 0.6508 - accuracy: 0.6189 - val_loss: 0.6560 - val_accuracy: 0.6096\n",
      "Epoch 5/10\n",
      "1532/1532 [==============================] - 17s 11ms/step - loss: 0.5941 - accuracy: 0.6861 - val_loss: 0.6454 - val_accuracy: 0.6324\n",
      "Epoch 6/10\n",
      "1532/1532 [==============================] - 17s 11ms/step - loss: 0.4986 - accuracy: 0.7650 - val_loss: 0.6368 - val_accuracy: 0.6661\n",
      "Epoch 7/10\n",
      "1532/1532 [==============================] - 17s 11ms/step - loss: 0.3846 - accuracy: 0.8393 - val_loss: 0.6768 - val_accuracy: 0.6790\n",
      "Epoch 8/10\n",
      "1532/1532 [==============================] - 17s 11ms/step - loss: 0.2756 - accuracy: 0.8943 - val_loss: 0.7529 - val_accuracy: 0.6873\n",
      "Epoch 9/10\n",
      "1532/1532 [==============================] - 17s 11ms/step - loss: 0.1898 - accuracy: 0.9322 - val_loss: 0.8217 - val_accuracy: 0.6887\n",
      "Epoch 10/10\n",
      "1532/1532 [==============================] - 17s 11ms/step - loss: 0.1353 - accuracy: 0.9531 - val_loss: 0.9212 - val_accuracy: 0.6903\n"
     ]
    },
    {
     "data": {
      "text/plain": [
       "<tensorflow.python.keras.callbacks.History at 0x7f1b601c5a50>"
      ]
     },
     "execution_count": 56,
     "metadata": {
      "tags": []
     },
     "output_type": "execute_result"
    }
   ],
   "source": [
    "K.clear_session()\n",
    "siamese_net.fit([pairs0,pairs1], pairLabels,\n",
    "          batch_size=64,\n",
    "          epochs=10,\n",
    "          validation_split=0.3)"
   ]
  },
  {
   "cell_type": "markdown",
   "metadata": {
    "id": "HigJSSOLlrVb"
   },
   "source": [
    "### RMSProp"
   ]
  },
  {
   "cell_type": "code",
   "execution_count": 68,
   "metadata": {
    "id": "s5zdnCtElrlQ"
   },
   "outputs": [],
   "source": [
    "siamese_net.compile(loss='binary_crossentropy',optimizer=keras.optimizers.RMSprop(learning_rate=0.001) ,metrics = ['accuracy'])"
   ]
  },
  {
   "cell_type": "code",
   "execution_count": 69,
   "metadata": {
    "colab": {
     "base_uri": "https://localhost:8080/"
    },
    "id": "iItsUJMrlrlU",
    "outputId": "70e4be29-8e1f-4d3d-ff1a-eb6c4f6383bb"
   },
   "outputs": [
    {
     "name": "stdout",
     "output_type": "stream",
     "text": [
      "Epoch 1/10\n",
      "1532/1532 [==============================] - 20s 12ms/step - loss: 0.7279 - accuracy: 0.5158 - val_loss: 0.6907 - val_accuracy: 0.5338\n",
      "Epoch 2/10\n",
      "1532/1532 [==============================] - 18s 12ms/step - loss: 0.6867 - accuracy: 0.5459 - val_loss: 0.6875 - val_accuracy: 0.5479\n",
      "Epoch 3/10\n",
      "1532/1532 [==============================] - 18s 12ms/step - loss: 0.6659 - accuracy: 0.5933 - val_loss: 0.6726 - val_accuracy: 0.5833\n",
      "Epoch 4/10\n",
      "1532/1532 [==============================] - 18s 12ms/step - loss: 0.6149 - accuracy: 0.6643 - val_loss: 0.6569 - val_accuracy: 0.6204\n",
      "Epoch 5/10\n",
      "1532/1532 [==============================] - 18s 12ms/step - loss: 0.5385 - accuracy: 0.7344 - val_loss: 0.6542 - val_accuracy: 0.6448\n",
      "Epoch 6/10\n",
      "1532/1532 [==============================] - 18s 12ms/step - loss: 0.4446 - accuracy: 0.7999 - val_loss: 0.6532 - val_accuracy: 0.6655\n",
      "Epoch 7/10\n",
      "1532/1532 [==============================] - 18s 12ms/step - loss: 0.3542 - accuracy: 0.8516 - val_loss: 0.7045 - val_accuracy: 0.6785\n",
      "Epoch 8/10\n",
      "1532/1532 [==============================] - 18s 12ms/step - loss: 0.2684 - accuracy: 0.8950 - val_loss: 0.7609 - val_accuracy: 0.6806\n",
      "Epoch 9/10\n",
      "1532/1532 [==============================] - 18s 12ms/step - loss: 0.2001 - accuracy: 0.9261 - val_loss: 0.8317 - val_accuracy: 0.6807\n",
      "Epoch 10/10\n",
      "1532/1532 [==============================] - 18s 12ms/step - loss: 0.1513 - accuracy: 0.9461 - val_loss: 0.9283 - val_accuracy: 0.6885\n"
     ]
    },
    {
     "data": {
      "text/plain": [
       "<tensorflow.python.keras.callbacks.History at 0x7f1b252283d0>"
      ]
     },
     "execution_count": 69,
     "metadata": {
      "tags": []
     },
     "output_type": "execute_result"
    }
   ],
   "source": [
    "K.clear_session()\n",
    "siamese_net.fit([pairs0,pairs1], pairLabels,\n",
    "          batch_size=64,\n",
    "          epochs=10,\n",
    "          validation_split=0.3)"
   ]
  },
  {
   "cell_type": "markdown",
   "metadata": {
    "id": "9IBqchQ3lvnm"
   },
   "source": [
    "### Mini Batch Gradient Descent"
   ]
  },
  {
   "cell_type": "code",
   "execution_count": 79,
   "metadata": {
    "id": "TYzyOg1clv18"
   },
   "outputs": [],
   "source": [
    "K.clear_session()\n",
    "siamese_net.compile(loss='binary_crossentropy',optimizer=keras.optimizers.SGD(learning_rate=0.1) ,metrics = ['accuracy'])"
   ]
  },
  {
   "cell_type": "code",
   "execution_count": 80,
   "metadata": {
    "colab": {
     "base_uri": "https://localhost:8080/"
    },
    "id": "2BOSv0bKlv19",
    "outputId": "e204e22f-38fc-45fa-f06d-df5805b20a84"
   },
   "outputs": [
    {
     "name": "stdout",
     "output_type": "stream",
     "text": [
      "Epoch 1/10\n",
      "1532/1532 [==============================] - 18s 11ms/step - loss: 0.7035 - accuracy: 0.5298 - val_loss: 0.7217 - val_accuracy: 0.5134\n",
      "Epoch 2/10\n",
      "1532/1532 [==============================] - 17s 11ms/step - loss: 0.6882 - accuracy: 0.5550 - val_loss: 0.6870 - val_accuracy: 0.5505\n",
      "Epoch 3/10\n",
      "1532/1532 [==============================] - 17s 11ms/step - loss: 0.6721 - accuracy: 0.5837 - val_loss: 0.6751 - val_accuracy: 0.5781\n",
      "Epoch 4/10\n",
      "1532/1532 [==============================] - 17s 11ms/step - loss: 0.6458 - accuracy: 0.6216 - val_loss: 0.8018 - val_accuracy: 0.5197\n",
      "Epoch 5/10\n",
      "1532/1532 [==============================] - 17s 11ms/step - loss: 0.6170 - accuracy: 0.6579 - val_loss: 0.6729 - val_accuracy: 0.6033\n",
      "Epoch 6/10\n",
      "1532/1532 [==============================] - 17s 11ms/step - loss: 0.5747 - accuracy: 0.6998 - val_loss: 0.7019 - val_accuracy: 0.5917\n",
      "Epoch 7/10\n",
      "1532/1532 [==============================] - 17s 11ms/step - loss: 0.5370 - accuracy: 0.7290 - val_loss: 0.7162 - val_accuracy: 0.6103\n",
      "Epoch 8/10\n",
      "1532/1532 [==============================] - 17s 11ms/step - loss: 0.4834 - accuracy: 0.7705 - val_loss: 0.7054 - val_accuracy: 0.6330\n",
      "Epoch 9/10\n",
      "1532/1532 [==============================] - 17s 11ms/step - loss: 0.4333 - accuracy: 0.8024 - val_loss: 0.7116 - val_accuracy: 0.6476\n",
      "Epoch 10/10\n",
      "1532/1532 [==============================] - 17s 11ms/step - loss: 0.3831 - accuracy: 0.8310 - val_loss: 0.8583 - val_accuracy: 0.6347\n"
     ]
    },
    {
     "data": {
      "text/plain": [
       "<tensorflow.python.keras.callbacks.History at 0x7f1b2384a190>"
      ]
     },
     "execution_count": 80,
     "metadata": {
      "tags": []
     },
     "output_type": "execute_result"
    }
   ],
   "source": [
    "siamese_net.fit([pairs0,pairs1], pairLabels,\n",
    "          batch_size=64,\n",
    "          epochs=10,\n",
    "          validation_split=0.3)"
   ]
  },
  {
   "cell_type": "markdown",
   "metadata": {
    "id": "wHK8ZsPYJ8Vy"
   },
   "source": [
    "# Triplet Loss"
   ]
  },
  {
   "cell_type": "code",
   "execution_count": 119,
   "metadata": {
    "id": "xvZ58K9LMeB_"
   },
   "outputs": [],
   "source": [
    "def make_triplets(labelList, imageArr, numLabels):\n",
    "  pairs0=[]\n",
    "  pairs1=[]\n",
    "  pairs2=[]\n",
    "  # pairLabels=[]\n",
    "  for i in range(numLabels):\n",
    "    curList=labelList[i]\n",
    "    for idx in range(len(curList)):\n",
    "      anchorImg=imageArr[curList[idx]]\n",
    "\n",
    "      posIdx=curList[(idx+1)%len(curList)]\n",
    "      posImg=imageArr[idx]\n",
    "\n",
    "      pairs0.append(anchorImg)\n",
    "      pairs1.append(posImg)      \n",
    "      # pairLabels.append(1)\n",
    "\n",
    "      negLabel=np.random.choice(list(range(numLabels)), 2)\n",
    "      negLabel=negLabel[0] if negLabel[0]!=idx else negLabel[1]\n",
    "      negIdx=np.random.choice(labelList[negLabel], 1)\n",
    "      negImg=imageArr[negIdx[0]]\n",
    "\n",
    "      pairs2.append(negImg)      \n",
    "      # pairLabels.append(0)\n",
    "\n",
    "  pairs0=np.array(pairs0, dtype='float32')\n",
    "  pairs1=np.array(pairs1, dtype='float32')\n",
    "  pairs2=np.array(pairs2, dtype='float32')\n",
    "  # pairLabels=np.array(pairLabels)\n",
    "\n",
    "  return pairs0, pairs1, pairs2\n",
    "\n",
    "\n",
    "def identity_loss(y_true, y_pred):\n",
    "    return K.mean(y_pred)\n",
    "\n",
    "# def tripletLoss(trueLabel, dist):\n",
    "#   alpha = 0.2\n",
    "#   print('1')\n",
    "#   print(tf.keras.backend.get_value(dist))\n",
    "#   print(tf.shape(trueLabel))\n",
    "#   posDist=dist[0]\n",
    "#   negDist=dist[1]\n",
    "#   print(tf.shape(posDist))\n",
    "#   print('2')\n",
    "#   diff = posDist-negDist+alpha\n",
    "#   print('3')\n",
    "#   zero=tf.constant(0, diff.dtype)\n",
    "#   loss = K.maximum(diff,zero)\n",
    "#   return loss\n"
   ]
  },
  {
   "cell_type": "code",
   "execution_count": 120,
   "metadata": {
    "id": "AQI3DM9bNOms"
   },
   "outputs": [],
   "source": [
    "#Divide images by labels\n",
    "numLabels=len(np.unique(yTrain))\n",
    "labelList=[]\n",
    "labelList=[np.where(yTrain==i)[0] for i in range(numLabels)]\n",
    "pairs0, pairs1, pairs2 = make_triplets(labelList, xTrain, numLabels)"
   ]
  },
  {
   "cell_type": "code",
   "execution_count": 121,
   "metadata": {
    "colab": {
     "base_uri": "https://localhost:8080/"
    },
    "id": "MqKSp2rCKUR6",
    "outputId": "19ca585e-dce5-4155-87bd-88710dde2ffc"
   },
   "outputs": [
    {
     "name": "stdout",
     "output_type": "stream",
     "text": [
      "Model: \"sequential\"\n",
      "_________________________________________________________________\n",
      "Layer (type)                 Output Shape              Param #   \n",
      "=================================================================\n",
      "conv2d (Conv2D)              (None, 26, 26, 32)        320       \n",
      "_________________________________________________________________\n",
      "batch_normalization (BatchNo (None, 26, 26, 32)        128       \n",
      "_________________________________________________________________\n",
      "activation (Activation)      (None, 26, 26, 32)        0         \n",
      "_________________________________________________________________\n",
      "conv2d_1 (Conv2D)            (None, 24, 24, 64)        18496     \n",
      "_________________________________________________________________\n",
      "batch_normalization_1 (Batch (None, 24, 24, 64)        256       \n",
      "_________________________________________________________________\n",
      "activation_1 (Activation)    (None, 24, 24, 64)        0         \n",
      "_________________________________________________________________\n",
      "max_pooling2d (MaxPooling2D) (None, 12, 12, 64)        0         \n",
      "_________________________________________________________________\n",
      "flatten (Flatten)            (None, 9216)              0         \n",
      "_________________________________________________________________\n",
      "dense (Dense)                (None, 128)               1179776   \n",
      "_________________________________________________________________\n",
      "batch_normalization_2 (Batch (None, 128)               512       \n",
      "_________________________________________________________________\n",
      "activation_2 (Activation)    (None, 128)               0         \n",
      "=================================================================\n",
      "Total params: 1,199,488\n",
      "Trainable params: 1,199,040\n",
      "Non-trainable params: 448\n",
      "_________________________________________________________________\n",
      "None\n",
      "Model: \"model\"\n",
      "__________________________________________________________________________________________________\n",
      "Layer (type)                    Output Shape         Param #     Connected to                     \n",
      "==================================================================================================\n",
      "input_2 (InputLayer)            [(None, 128)]        0                                            \n",
      "__________________________________________________________________________________________________\n",
      "input_3 (InputLayer)            [(None, 128)]        0                                            \n",
      "__________________________________________________________________________________________________\n",
      "input_4 (InputLayer)            [(None, 128)]        0                                            \n",
      "__________________________________________________________________________________________________\n",
      "lambda (Lambda)                 (None, 128)          0           input_2[0][0]                    \n",
      "                                                                 input_3[0][0]                    \n",
      "                                                                 input_4[0][0]                    \n",
      "==================================================================================================\n",
      "Total params: 0\n",
      "Trainable params: 0\n",
      "Non-trainable params: 0\n",
      "__________________________________________________________________________________________________\n",
      "None\n"
     ]
    }
   ],
   "source": [
    "K.clear_session()\n",
    "siamese_net = triplet_siamese((28,28,1))"
   ]
  },
  {
   "cell_type": "markdown",
   "metadata": {
    "id": "Effdzw5hsSCb"
   },
   "source": [
    "### Adam"
   ]
  },
  {
   "cell_type": "code",
   "execution_count": 108,
   "metadata": {
    "id": "1aEquHigsSCp"
   },
   "outputs": [],
   "source": [
    "K.clear_session()\n",
    "siamese_net.compile(loss=identity_loss, optimizer=keras.optimizers.Adam(learning_rate=0.0001) ,metrics = ['accuracy'])"
   ]
  },
  {
   "cell_type": "code",
   "execution_count": 109,
   "metadata": {
    "colab": {
     "base_uri": "https://localhost:8080/"
    },
    "id": "XXmawuIesSCs",
    "outputId": "d884eca9-ba67-4575-9916-93e2528dc97f"
   },
   "outputs": [
    {
     "name": "stdout",
     "output_type": "stream",
     "text": [
      "Epoch 1/10\n",
      "766/766 - 12s - loss: 0.3018 - accuracy: 0.0066 - val_loss: 0.3017 - val_accuracy: 0.0040\n",
      "Epoch 2/10\n",
      "766/766 - 10s - loss: 0.2962 - accuracy: 0.0065 - val_loss: 0.3009 - val_accuracy: 0.0078\n",
      "Epoch 3/10\n",
      "766/766 - 10s - loss: 0.2941 - accuracy: 0.0091 - val_loss: 0.3034 - val_accuracy: 0.0100\n",
      "Epoch 4/10\n",
      "766/766 - 10s - loss: 0.2919 - accuracy: 0.0125 - val_loss: 0.3017 - val_accuracy: 0.0167\n",
      "Epoch 5/10\n",
      "766/766 - 10s - loss: 0.2892 - accuracy: 0.0147 - val_loss: 0.3020 - val_accuracy: 0.0039\n",
      "Epoch 6/10\n",
      "766/766 - 10s - loss: 0.2870 - accuracy: 0.0152 - val_loss: 0.3014 - val_accuracy: 0.0151\n",
      "Epoch 7/10\n",
      "766/766 - 10s - loss: 0.2842 - accuracy: 0.0167 - val_loss: 0.3002 - val_accuracy: 0.0113\n",
      "Epoch 8/10\n",
      "766/766 - 10s - loss: 0.2824 - accuracy: 0.0156 - val_loss: 0.3015 - val_accuracy: 0.0114\n",
      "Epoch 9/10\n",
      "766/766 - 10s - loss: 0.2801 - accuracy: 0.0158 - val_loss: 0.2999 - val_accuracy: 0.0069\n",
      "Epoch 10/10\n",
      "766/766 - 10s - loss: 0.2781 - accuracy: 0.0167 - val_loss: 0.3011 - val_accuracy: 0.0130\n"
     ]
    },
    {
     "data": {
      "text/plain": [
       "<tensorflow.python.keras.callbacks.History at 0x7f1b22e13d10>"
      ]
     },
     "execution_count": 109,
     "metadata": {
      "tags": []
     },
     "output_type": "execute_result"
    }
   ],
   "source": [
    "labels=np.ones((np.shape(pairs0)[0]))\n",
    "siamese_net.fit([pairs0, pairs1, pairs2], labels,\n",
    "          batch_size=64,\n",
    "          epochs=10,\n",
    "          verbose=2,\n",
    "          validation_split=0.3)"
   ]
  },
  {
   "cell_type": "markdown",
   "metadata": {
    "id": "4jExaPW2sSCy"
   },
   "source": [
    "### RMSProp"
   ]
  },
  {
   "cell_type": "code",
   "execution_count": 122,
   "metadata": {
    "id": "1hIXzUaFsSC0"
   },
   "outputs": [],
   "source": [
    "K.clear_session()\n",
    "siamese_net.compile(loss='binary_crossentropy',optimizer=keras.optimizers.RMSprop(learning_rate=0.001) ,metrics = ['accuracy'])"
   ]
  },
  {
   "cell_type": "code",
   "execution_count": 123,
   "metadata": {
    "colab": {
     "base_uri": "https://localhost:8080/"
    },
    "id": "UiKlg4umsSC1",
    "outputId": "bf3718f8-c531-47bb-81af-5aa5bebc7c5e"
   },
   "outputs": [
    {
     "name": "stdout",
     "output_type": "stream",
     "text": [
      "Epoch 1/10\n",
      "766/766 - 13s - loss: 3.6506 - accuracy: 0.0014 - val_loss: 5.4333 - val_accuracy: 3.8095e-04\n",
      "Epoch 2/10\n",
      "766/766 - 11s - loss: 1.6086 - accuracy: 0.0017 - val_loss: 1.2040 - val_accuracy: 0.0000e+00\n",
      "Epoch 3/10\n",
      "766/766 - 11s - loss: 1.2040 - accuracy: 0.0000e+00 - val_loss: 1.2040 - val_accuracy: 0.0000e+00\n",
      "Epoch 4/10\n",
      "766/766 - 11s - loss: 1.2040 - accuracy: 0.0000e+00 - val_loss: 1.2040 - val_accuracy: 0.0000e+00\n",
      "Epoch 5/10\n",
      "766/766 - 11s - loss: 1.2040 - accuracy: 0.0000e+00 - val_loss: 1.2040 - val_accuracy: 0.0000e+00\n",
      "Epoch 6/10\n",
      "766/766 - 11s - loss: 1.2040 - accuracy: 0.0000e+00 - val_loss: 1.2040 - val_accuracy: 0.0000e+00\n",
      "Epoch 7/10\n",
      "766/766 - 11s - loss: 1.2040 - accuracy: 0.0000e+00 - val_loss: 1.2040 - val_accuracy: 0.0000e+00\n",
      "Epoch 8/10\n",
      "766/766 - 11s - loss: 1.2040 - accuracy: 0.0000e+00 - val_loss: 1.2040 - val_accuracy: 0.0000e+00\n",
      "Epoch 9/10\n",
      "766/766 - 11s - loss: 1.2040 - accuracy: 0.0000e+00 - val_loss: 1.2040 - val_accuracy: 0.0000e+00\n",
      "Epoch 10/10\n",
      "766/766 - 11s - loss: 1.2040 - accuracy: 0.0000e+00 - val_loss: 1.2040 - val_accuracy: 0.0000e+00\n"
     ]
    },
    {
     "data": {
      "text/plain": [
       "<tensorflow.python.keras.callbacks.History at 0x7f1b0c69e390>"
      ]
     },
     "execution_count": 123,
     "metadata": {
      "tags": []
     },
     "output_type": "execute_result"
    }
   ],
   "source": [
    "labels=np.ones((np.shape(pairs0)[0]))\n",
    "siamese_net.fit([pairs0, pairs1, pairs2], labels,\n",
    "          batch_size=64,\n",
    "          epochs=10,\n",
    "          verbose=2,\n",
    "          validation_split=0.3)"
   ]
  },
  {
   "cell_type": "markdown",
   "metadata": {
    "id": "rstm1oLmsSC3"
   },
   "source": [
    "### Mini Batch Gradient Descent"
   ]
  },
  {
   "cell_type": "code",
   "execution_count": 33,
   "metadata": {
    "id": "cSmkZx96Kd7o"
   },
   "outputs": [],
   "source": [
    "siamese_net.compile(loss=identity_loss,optimizer=keras.optimizers.SGD(learning_rate=0.001) ,metrics = ['accuracy'])"
   ]
  },
  {
   "cell_type": "code",
   "execution_count": 34,
   "metadata": {
    "colab": {
     "base_uri": "https://localhost:8080/"
    },
    "id": "P5IxfeolKhaj",
    "outputId": "7f09455d-fa75-43fd-ee53-f7a9d9bd5010"
   },
   "outputs": [
    {
     "name": "stdout",
     "output_type": "stream",
     "text": [
      "Epoch 1/10\n",
      "766/766 - 12s - loss: 0.4930 - accuracy: 0.0038 - val_loss: 0.5037 - val_accuracy: 0.0026\n",
      "Epoch 2/10\n",
      "766/766 - 10s - loss: 0.4931 - accuracy: 0.0037 - val_loss: 0.5035 - val_accuracy: 0.0028\n",
      "Epoch 3/10\n",
      "766/766 - 10s - loss: 0.4932 - accuracy: 0.0037 - val_loss: 0.5035 - val_accuracy: 0.0024\n",
      "Epoch 4/10\n",
      "766/766 - 10s - loss: 0.4927 - accuracy: 0.0038 - val_loss: 0.5034 - val_accuracy: 0.0027\n",
      "Epoch 5/10\n",
      "766/766 - 10s - loss: 0.4927 - accuracy: 0.0037 - val_loss: 0.5034 - val_accuracy: 0.0026\n",
      "Epoch 6/10\n",
      "766/766 - 10s - loss: 0.4926 - accuracy: 0.0037 - val_loss: 0.5034 - val_accuracy: 0.0027\n",
      "Epoch 7/10\n",
      "766/766 - 10s - loss: 0.4927 - accuracy: 0.0036 - val_loss: 0.5032 - val_accuracy: 0.0029\n",
      "Epoch 8/10\n",
      "766/766 - 10s - loss: 0.4926 - accuracy: 0.0039 - val_loss: 0.5033 - val_accuracy: 0.0028\n",
      "Epoch 9/10\n",
      "766/766 - 10s - loss: 0.4925 - accuracy: 0.0035 - val_loss: 0.5032 - val_accuracy: 0.0029\n",
      "Epoch 10/10\n",
      "766/766 - 10s - loss: 0.4924 - accuracy: 0.0037 - val_loss: 0.5031 - val_accuracy: 0.0027\n"
     ]
    },
    {
     "data": {
      "text/plain": [
       "<tensorflow.python.keras.callbacks.History at 0x7f1b6024ced0>"
      ]
     },
     "execution_count": 34,
     "metadata": {
      "tags": []
     },
     "output_type": "execute_result"
    }
   ],
   "source": [
    "K.clear_session()\n",
    "labels=np.ones((np.shape(pairs0)[0]))\n",
    "siamese_net.fit([pairs0, pairs1, pairs2], labels,\n",
    "          batch_size=64,\n",
    "          epochs=10,\n",
    "          verbose=2,\n",
    "          validation_split=0.3)"
   ]
  },
  {
   "cell_type": "markdown",
   "metadata": {
    "id": "iMapdtESvoCV"
   },
   "source": [
    "### Accuracies\n",
    "---\n",
    "|                      | Adam     | RMSProp  | Mini Batch GD |\n",
    "| :---                 | :----:   | :----:   | ---:  |\n",
    "| **Contrastive Loss** | 69.72  | 67.60  | 64.42 |\n",
    "| **Cross Entropy**    | 69.03  | 68.85  | 64.76 |\n",
    "| **Triplet Loss**     | 1.67   | 0      | 0.29  |\n",
    "\n",
    "\n",
    "\n",
    "\n",
    "> **Best Optimizer**: Adam\n",
    "\n",
    "\n"
   ]
  },
  {
   "cell_type": "markdown",
   "metadata": {
    "id": "FaVGCdWbyi00"
   },
   "source": [
    "### Pros and Cons\n",
    "\n",
    "\n",
    "---\n",
    "\n",
    "\n",
    "### Pros of Siamese Network\n",
    "- **Robust to class imbalance**: Few images per class is sufficient to train the network\n",
    "- **Learns with semantic similarity**: Places similar classes close\n",
    "\n",
    "### Cons of Siamese Network\n",
    "- More training time\n",
    "- Doesn't give the probabilities of prediction; just the distance between the classes"
   ]
  }
 ],
 "metadata": {
  "colab": {
   "collapsed_sections": [
    "QtEszDmRUIw1",
    "Izj9NdrMjmKQ",
    "oMOM3hZ2jrEh",
    "2EVQwXeqkQ0t",
    "u0loSd4GN4Vx",
    "xYA_0W7gloGO",
    "HigJSSOLlrVb",
    "9IBqchQ3lvnm",
    "Effdzw5hsSCb",
    "4jExaPW2sSCy",
    "rstm1oLmsSC3"
   ],
   "name": "Final_3_4.ipynb",
   "provenance": []
  },
  "kernelspec": {
   "display_name": "Python 3",
   "language": "python",
   "name": "python3"
  },
  "language_info": {
   "codemirror_mode": {
    "name": "ipython",
    "version": 3
   },
   "file_extension": ".py",
   "mimetype": "text/x-python",
   "name": "python",
   "nbconvert_exporter": "python",
   "pygments_lexer": "ipython3",
   "version": "3.8.5"
  }
 },
 "nbformat": 4,
 "nbformat_minor": 1
}
