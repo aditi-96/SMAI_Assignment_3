{
 "cells": [
  {
   "cell_type": "markdown",
   "metadata": {
    "id": "V2G9OvV_2hmd"
   },
   "source": [
    "# Part 1"
   ]
  },
  {
   "cell_type": "code",
   "execution_count": null,
   "metadata": {
    "id": "R-P7PpwQe1mE"
   },
   "outputs": [],
   "source": [
    "from tensorflow.keras.utils import to_categorical\n",
    "import tensorflow as tf\n",
    "from tensorflow import keras\n",
    "from tensorflow.keras import layers, Input, optimizers, initializers\n",
    "from keras.datasets import mnist\n",
    "from keras.models import Model, Sequential\n",
    "import numpy as np\n",
    "from sklearn.model_selection import train_test_split\n",
    "from matplotlib import pyplot as plt"
   ]
  },
  {
   "cell_type": "code",
   "execution_count": null,
   "metadata": {
    "colab": {
     "base_uri": "https://localhost:8080/"
    },
    "id": "mO9tYmfylHR-",
    "outputId": "a86a6ea2-31d4-4a8d-da59-c6fabb7a5a47"
   },
   "outputs": [
    {
     "name": "stdout",
     "output_type": "stream",
     "text": [
      "Downloading data from https://storage.googleapis.com/tensorflow/tf-keras-datasets/mnist.npz\n",
      "11493376/11490434 [==============================] - 0s 0us/step\n"
     ]
    }
   ],
   "source": [
    "(xTrain, yTrain), (xTest, yTest) = mnist.load_data()"
   ]
  },
  {
   "cell_type": "code",
   "execution_count": null,
   "metadata": {
    "colab": {
     "base_uri": "https://localhost:8080/"
    },
    "id": "bi-z7nZ8la5l",
    "outputId": "69e17f3d-fb30-4f79-a24a-5332a22491eb"
   },
   "outputs": [
    {
     "name": "stdout",
     "output_type": "stream",
     "text": [
      "(46900, 28, 28)\n",
      "(23100, 28, 28)\n",
      "(46900,)\n",
      "(23100,)\n"
     ]
    }
   ],
   "source": [
    "X=np.concatenate((xTrain,xTest))\n",
    "y=np.concatenate((yTrain,yTest))\n",
    "xTrain, xTest, yTrain, yTest = train_test_split(X, y, test_size=0.33)\n",
    "print(xTrain.shape)\n",
    "print(xTest.shape)\n",
    "print(yTrain.shape)\n",
    "print(yTest.shape)"
   ]
  },
  {
   "cell_type": "code",
   "execution_count": null,
   "metadata": {
    "id": "q7OzR8mZljrd"
   },
   "outputs": [],
   "source": [
    "xTrain=xTrain.astype('float32')/255\n",
    "xTest=xTest.astype('float32')/255\n",
    "yTrain = to_categorical(yTrain, 10)\n",
    "yTest = to_categorical(yTest, 10)\n",
    "\n",
    "xTrain=xTrain.reshape(xTrain.shape[0], -1)\n",
    "xTest=xTest.reshape(xTest.shape[0], -1)"
   ]
  },
  {
   "cell_type": "code",
   "execution_count": null,
   "metadata": {
    "id": "QESjUQnTmCo_"
   },
   "outputs": [],
   "source": [
    "keras.backend.clear_session()\n",
    "\n",
    "class MLP():\n",
    "  def __init__(self,inputShape, kernelInit):\n",
    "    self.inputShape=inputShape\n",
    "    self.createModel(kernelInit)\n",
    "\n",
    "  def createModel(self, kernelInit):\n",
    "    model=Sequential(\n",
    "        [\n",
    "        Input(shape=self.inputShape, name='input'),\n",
    "        layers.Dense(512, activation='relu', name='layer1', kernel_initializer=kernelInit),\n",
    "        layers.Dense(256, activation='relu', name='layer2', kernel_initializer=kernelInit),\n",
    "        layers.Dense(128, activation='relu', name='layer3', kernel_initializer=kernelInit),\n",
    "        layers.Dense(64, activation='relu', name='layer4', kernel_initializer=kernelInit),\n",
    "        layers.Dense(10, activation='softmax', name='finalLayer', kernel_initializer=kernelInit),\n",
    "        ]\n",
    "    )\n",
    "    self.model=model\n",
    "    return self.model\n",
    "\n",
    "  def compileFunc(self, lossFunc, optim):\n",
    "    self.model.compile(\n",
    "        loss=lossFunc, \n",
    "        optimizer=optim,\n",
    "        metrics=['accuracy']\n",
    "    )\n",
    "\n",
    "  def fitModel(self, xTrain, yTrain, batchSize, epoch):\n",
    "    history=self.model.fit(xTrain, yTrain, batch_size=batchSize, epochs=epoch, verbose=0, validation_split=0.1)\n",
    "    return history\n",
    "\n",
    "  def evaluateModel(self, xTest, yTest):\n",
    "    scores = self.model.evaluate(xTest, yTest, verbose=0)\n",
    "    print(\"Accuracy: \", scores[1])\n",
    "\n",
    "def plotLoss(history, epochs, optim):\n",
    "  plt.figure(figsize=(5,5))\n",
    "  plt.plot(list(range(1, epochs+1)), history.history['loss'], label='Training Loss')\n",
    "  plt.title(optim)\n",
    "  plt.legend()\n",
    "  plt.xlabel('epochs')\n",
    "  plt.ylabel('loss')\n",
    "  plt.show()"
   ]
  },
  {
   "cell_type": "markdown",
   "metadata": {
    "id": "s_dwEyswyVMf"
   },
   "source": [
    "## Adam\n",
    "- Accuracy: 97.31"
   ]
  },
  {
   "cell_type": "code",
   "execution_count": null,
   "metadata": {
    "colab": {
     "base_uri": "https://localhost:8080/",
     "height": 367
    },
    "id": "V1RQO1cQL--C",
    "outputId": "7887093b-90cb-4fd4-fee0-5e72f8f4c628"
   },
   "outputs": [
    {
     "name": "stdout",
     "output_type": "stream",
     "text": [
      "Accuracy:  0.9730736017227173\n"
     ]
    },
    {
     "data": {
      "image/png": "[encoded data removed]",
      "text/plain": [
       "<Figure size 360x360 with 1 Axes>"
      ]
     },
     "metadata": {
      "needs_background": "light",
      "tags": []
     },
     "output_type": "display_data"
    }
   ],
   "source": [
    "keras.backend.clear_session()\n",
    "loss='categorical_crossentropy'\n",
    "optim=optimizers.Adam(learning_rate=0.0001)\n",
    "\n",
    "batchSize=64\n",
    "epochs=10\n",
    "\n",
    "inputShape=(784,)\n",
    "\n",
    "model=MLP(inputShape, None)            #kernel initializer=None\n",
    "model.compileFunc(loss, optim)\n",
    "history=model.fitModel(xTrain, yTrain, batchSize, epochs)\n",
    "model.evaluateModel(xTest, yTest)\n",
    "plotLoss(history, epochs,'Adam')"
   ]
  },
  {
   "cell_type": "markdown",
   "metadata": {
    "id": "TjZ6lyXUYbqR"
   },
   "source": [
    "## RMS Prop\n",
    "- Accuracy: 97.51"
   ]
  },
  {
   "cell_type": "code",
   "execution_count": null,
   "metadata": {
    "colab": {
     "base_uri": "https://localhost:8080/",
     "height": 367
    },
    "id": "OTx_qLGGYd1W",
    "outputId": "c38fe3f0-7f4b-4256-a914-af1c4107f15d"
   },
   "outputs": [
    {
     "name": "stdout",
     "output_type": "stream",
     "text": [
      "Accuracy:  0.9751082062721252\n"
     ]
    },
    {
     "data": {
      "image/png": "[encoded data removed]",
      "text/plain": [
       "<Figure size 360x360 with 1 Axes>"
      ]
     },
     "metadata": {
      "needs_background": "light",
      "tags": []
     },
     "output_type": "display_data"
    }
   ],
   "source": [
    "keras.backend.clear_session()\n",
    "\n",
    "loss='categorical_crossentropy'\n",
    "optim=optimizers.RMSprop(learning_rate=0.001)\n",
    "\n",
    "batchSize=64\n",
    "epochs=10\n",
    "\n",
    "inputShape=(784,)\n",
    "\n",
    "model=MLP(inputShape, None)            #kernel initializer=None\n",
    "model.compileFunc(loss, optim)\n",
    "history=model.fitModel(xTrain, yTrain, batchSize, epochs)\n",
    "model.evaluateModel(xTest, yTest)\n",
    "plotLoss(history, epochs,'RMSProp')"
   ]
  },
  {
   "cell_type": "markdown",
   "metadata": {
    "id": "KQDUz4svLyxY"
   },
   "source": [
    "## SGD with Momentum\n",
    "- Accuracy: 97.22"
   ]
  },
  {
   "cell_type": "code",
   "execution_count": null,
   "metadata": {
    "colab": {
     "base_uri": "https://localhost:8080/",
     "height": 367
    },
    "id": "s3xX2F23qzgs",
    "outputId": "f78f9462-fa86-4972-fb36-ca24b45b6ed1"
   },
   "outputs": [
    {
     "name": "stdout",
     "output_type": "stream",
     "text": [
      "Accuracy:  0.972164511680603\n"
     ]
    },
    {
     "data": {
      "image/png": "[encoded data removed]",
      "text/plain": [
       "<Figure size 360x360 with 1 Axes>"
      ]
     },
     "metadata": {
      "needs_background": "light",
      "tags": []
     },
     "output_type": "display_data"
    }
   ],
   "source": [
    "keras.backend.clear_session()\n",
    "\n",
    "loss='categorical_crossentropy'\n",
    "optim=optimizers.SGD(learning_rate=0.1, momentum=0.9)\n",
    "\n",
    "batchSize=1\n",
    "epochs=10\n",
    "\n",
    "inputShape=(784,)\n",
    "\n",
    "model=MLP(inputShape, None)            #kernel initializer=None\n",
    "model.compileFunc(loss, optim)\n",
    "history=model.fitModel(xTrain, yTrain, batchSize, epochs)\n",
    "model.evaluateModel(xTest, yTest)\n",
    "plotLoss(history, epochs,'SGD with Momentum')"
   ]
  },
  {
   "cell_type": "markdown",
   "metadata": {
    "id": "fo2wC4QzLqVh"
   },
   "source": [
    "## SGD w/o Momentum\n",
    "- Accuracy: 97.78"
   ]
  },
  {
   "cell_type": "code",
   "execution_count": null,
   "metadata": {
    "colab": {
     "base_uri": "https://localhost:8080/",
     "height": 367
    },
    "id": "Q_SZbJlABm3e",
    "outputId": "decb4dea-45e0-4a89-f904-f262fb1cb434"
   },
   "outputs": [
    {
     "name": "stdout",
     "output_type": "stream",
     "text": [
      "Accuracy:  0.9778788089752197\n"
     ]
    },
    {
     "data": {
      "image/png": "[encoded data removed]",
      "text/plain": [
       "<Figure size 360x360 with 1 Axes>"
      ]
     },
     "metadata": {
      "needs_background": "light",
      "tags": []
     },
     "output_type": "display_data"
    }
   ],
   "source": [
    "keras.backend.clear_session()\n",
    "\n",
    "loss='categorical_crossentropy'\n",
    "optim=optimizers.SGD(learning_rate=0.1)\n",
    "\n",
    "batchSize=1\n",
    "epochs=10\n",
    "\n",
    "inputShape=(784,)\n",
    "\n",
    "model=MLP(inputShape, None)            #kernel initializer=None\n",
    "model.compileFunc(loss, optim)\n",
    "history=model.fitModel(xTrain, yTrain, batchSize, epochs)\n",
    "model.evaluateModel(xTest, yTest)\n",
    "plotLoss(history, epochs,'SGD w/o Momentum')"
   ]
  },
  {
   "cell_type": "markdown",
   "metadata": {
    "id": "sMUX5-sL0gq0"
   },
   "source": [
    "## Kernel Initializers"
   ]
  },
  {
   "cell_type": "markdown",
   "metadata": {
    "id": "O2lATHjp0o76"
   },
   "source": [
    "### Xavier\n",
    "- No change in accuracy: 97.79"
   ]
  },
  {
   "cell_type": "code",
   "execution_count": null,
   "metadata": {
    "colab": {
     "base_uri": "https://localhost:8080/",
     "height": 367
    },
    "id": "l5NXJrq7lOQk",
    "outputId": "6c99144b-bbf7-419c-9302-4a0f8622717d"
   },
   "outputs": [
    {
     "name": "stdout",
     "output_type": "stream",
     "text": [
      "Accuracy:  0.9778788089752197\n"
     ]
    },
    {
     "data": {
      "image/png": "[encoded data removed]",
      "text/plain": [
       "<Figure size 360x360 with 1 Axes>"
      ]
     },
     "metadata": {
      "needs_background": "light",
      "tags": []
     },
     "output_type": "display_data"
    }
   ],
   "source": [
    "keras.backend.clear_session()\n",
    "\n",
    "loss='categorical_crossentropy'\n",
    "optim=optimizers.SGD(learning_rate=0.1)\n",
    "kernelInit=initializers.GlorotNormal()\n",
    "\n",
    "batchSize=64\n",
    "epochs=10\n",
    "\n",
    "inputShape=(784,)\n",
    "\n",
    "model=MLP(inputShape, kernelInit)            #kernel initializer=Xavier\n",
    "model.compileFunc(loss, optim)\n",
    "history=model.fitModel(xTrain, yTrain, batchSize, epochs)\n",
    "model.evaluateModel(xTest, yTest)\n",
    "plotLoss(history, epochs,'SGD w/o Momentum')"
   ]
  },
  {
   "cell_type": "markdown",
   "metadata": {
    "id": "GZnswL-N0zdF"
   },
   "source": [
    "### Uniform\n",
    "- Accuracy reduced drastically: 11.49"
   ]
  },
  {
   "cell_type": "code",
   "execution_count": null,
   "metadata": {
    "colab": {
     "base_uri": "https://localhost:8080/",
     "height": 367
    },
    "id": "qBohBvHV01Yn",
    "outputId": "cdc05c5c-50e6-44e7-c76f-dc1aae558923"
   },
   "outputs": [
    {
     "name": "stdout",
     "output_type": "stream",
     "text": [
      "Accuracy:  0.11489177495241165\n"
     ]
    },
    {
     "data": {
      "image/png": "[encoded data removed]",
      "text/plain": [
       "<Figure size 360x360 with 1 Axes>"
      ]
     },
     "metadata": {
      "needs_background": "light",
      "tags": []
     },
     "output_type": "display_data"
    }
   ],
   "source": [
    "keras.backend.clear_session()\n",
    "\n",
    "loss='categorical_crossentropy'\n",
    "optim=optimizers.SGD(learning_rate=0.001)\n",
    "kernelInit=initializers.RandomUniform(minval=0, maxval=1)\n",
    "\n",
    "batchSize=64\n",
    "epochs=10\n",
    "\n",
    "inputShape=(784,)\n",
    "\n",
    "model=MLP(inputShape, kernelInit)            #kernel initializer=Xavier\n",
    "model.compileFunc(loss, optim)\n",
    "history=model.fitModel(xTrain, yTrain, batchSize, epochs)\n",
    "model.evaluateModel(xTest, yTest)\n",
    "plotLoss(history, epochs,'SGD w/o Momentum')"
   ]
  },
  {
   "cell_type": "markdown",
   "metadata": {
    "id": "PRZpDVj302QH"
   },
   "source": [
    "### Normal\n",
    "- Accuracy decreased drastically (67.64)\n",
    "- Learning rate too low (1e-6)"
   ]
  },
  {
   "cell_type": "code",
   "execution_count": null,
   "metadata": {
    "colab": {
     "base_uri": "https://localhost:8080/",
     "height": 367
    },
    "id": "2OJmqa9-03JJ",
    "outputId": "270bbb45-027a-4146-cfc1-d4ec681f5611"
   },
   "outputs": [
    {
     "name": "stdout",
     "output_type": "stream",
     "text": [
      "Accuracy:  0.6764069199562073\n"
     ]
    },
    {
     "data": {
      "image/png": "[encoded data removed]",
      "text/plain": [
       "<Figure size 360x360 with 1 Axes>"
      ]
     },
     "metadata": {
      "needs_background": "light",
      "tags": []
     },
     "output_type": "display_data"
    }
   ],
   "source": [
    "keras.backend.clear_session()\n",
    "\n",
    "loss='categorical_crossentropy'\n",
    "optim=optimizers.SGD(learning_rate=0.000001)\n",
    "kernelInit=initializers.RandomNormal(mean=0, stddev=1)\n",
    "\n",
    "batchSize=64\n",
    "epochs=10\n",
    "\n",
    "inputShape=(784,)\n",
    "\n",
    "model=MLP(inputShape, kernelInit)            #kernel initializer=Xavier\n",
    "model.compileFunc(loss, optim)\n",
    "history=model.fitModel(xTrain, yTrain, batchSize, epochs)\n",
    "model.evaluateModel(xTest, yTest)\n",
    "plotLoss(history, epochs,'SGD w/o Momentum')"
   ]
  },
  {
   "cell_type": "markdown",
   "metadata": {
    "id": "-OWQ6gMa2XGC"
   },
   "source": [
    "## Exponential Annealing"
   ]
  },
  {
   "cell_type": "markdown",
   "metadata": {
    "id": "gTBVofD_7nWb"
   },
   "source": [
    "##### **Initial learning rate**=0.01\n",
    "##### **Decay steps**=10000\n",
    "\n",
    "- **Accuracy**: 95.43"
   ]
  },
  {
   "cell_type": "code",
   "execution_count": null,
   "metadata": {
    "colab": {
     "base_uri": "https://localhost:8080/",
     "height": 367
    },
    "id": "L-SEnqGm1mAr",
    "outputId": "b69e0c54-d309-4f84-d842-061e560d9b5d"
   },
   "outputs": [
    {
     "name": "stdout",
     "output_type": "stream",
     "text": [
      "Accuracy:  0.954285740852356\n"
     ]
    },
    {
     "data": {
      "image/png": "[encoded data removed]",
      "text/plain": [
       "<Figure size 360x360 with 1 Axes>"
      ]
     },
     "metadata": {
      "needs_background": "light",
      "tags": []
     },
     "output_type": "display_data"
    }
   ],
   "source": [
    "keras.backend.clear_session()\n",
    "\n",
    "lr_schedule = optimizers.schedules.ExponentialDecay(\n",
    "    initial_learning_rate=0.01,\n",
    "    decay_steps=10000,\n",
    "    decay_rate=0.9)\n",
    "optim = optimizers.SGD(learning_rate=lr_schedule)\n",
    "\n",
    "loss='categorical_crossentropy'\n",
    "\n",
    "batchSize=64\n",
    "epochs=10\n",
    "\n",
    "inputShape=(784,)\n",
    "\n",
    "model=MLP(inputShape, None)            #kernel initializer=Xavier\n",
    "model.compileFunc(loss, optim)\n",
    "history=model.fitModel(xTrain, yTrain, batchSize, epochs)\n",
    "model.evaluateModel(xTest, yTest)\n",
    "plotLoss(history, epochs,'SGD w/o Momentum')"
   ]
  },
  {
   "cell_type": "markdown",
   "metadata": {
    "id": "kpSHAY6Z8KvO"
   },
   "source": [
    "##### **Initial learning rate**=0.1\n",
    "##### **Decay steps**=1000\n",
    "\n",
    "- **Accuracy**: 97.73"
   ]
  },
  {
   "cell_type": "code",
   "execution_count": null,
   "metadata": {
    "colab": {
     "base_uri": "https://localhost:8080/",
     "height": 367
    },
    "id": "cPVbeElr37g5",
    "outputId": "08f34b48-d8c9-4c9b-f965-172e86e3829a"
   },
   "outputs": [
    {
     "name": "stdout",
     "output_type": "stream",
     "text": [
      "Accuracy:  0.9773160219192505\n"
     ]
    },
    {
     "data": {
      "image/png": "[encoded data removed]",
      "text/plain": [
       "<Figure size 360x360 with 1 Axes>"
      ]
     },
     "metadata": {
      "needs_background": "light",
      "tags": []
     },
     "output_type": "display_data"
    }
   ],
   "source": [
    "keras.backend.clear_session()\n",
    "\n",
    "lr_schedule = optimizers.schedules.ExponentialDecay(\n",
    "    initial_learning_rate=0.1,\n",
    "    decay_steps=1000,\n",
    "    decay_rate=0.9)\n",
    "optim = optimizers.SGD(learning_rate=lr_schedule)\n",
    "\n",
    "loss='categorical_crossentropy'\n",
    "\n",
    "batchSize=64\n",
    "epochs=10\n",
    "\n",
    "inputShape=(784,)\n",
    "\n",
    "model=MLP(inputShape, None)            #kernel initializer=Xavier\n",
    "model.compileFunc(loss, optim)\n",
    "history=model.fitModel(xTrain, yTrain, batchSize, epochs)\n",
    "model.evaluateModel(xTest, yTest)\n",
    "plotLoss(history, epochs,'SGD w/o Momentum')"
   ]
  },
  {
   "cell_type": "markdown",
   "metadata": {
    "id": "fWROmdGc8R2-"
   },
   "source": [
    "##### **Initial learning rate**=0.1\n",
    "##### **Decay steps**=10000\n",
    "\n",
    "- **Accuracy**: 97.75"
   ]
  },
  {
   "cell_type": "code",
   "execution_count": null,
   "metadata": {
    "colab": {
     "base_uri": "https://localhost:8080/",
     "height": 367
    },
    "id": "UrhtOZG37Ys-",
    "outputId": "87577f51-198f-4561-a652-bdc6aaec4bdd"
   },
   "outputs": [
    {
     "name": "stdout",
     "output_type": "stream",
     "text": [
      "Accuracy:  0.9775324463844299\n"
     ]
    },
    {
     "data": {
      "image/png": "[encoded data removed]",
      "text/plain": [
       "<Figure size 360x360 with 1 Axes>"
      ]
     },
     "metadata": {
      "needs_background": "light",
      "tags": []
     },
     "output_type": "display_data"
    }
   ],
   "source": [
    "keras.backend.clear_session()\n",
    "\n",
    "lr_schedule = optimizers.schedules.ExponentialDecay(\n",
    "    initial_learning_rate=0.1,\n",
    "    decay_steps=10000,\n",
    "    decay_rate=0.9)\n",
    "optim = optimizers.SGD(learning_rate=lr_schedule)\n",
    "\n",
    "loss='categorical_crossentropy'\n",
    "\n",
    "batchSize=64\n",
    "epochs=10\n",
    "\n",
    "inputShape=(784,)\n",
    "\n",
    "model=MLP(inputShape, None)            #kernel initializer=Xavier\n",
    "model.compileFunc(loss, optim)\n",
    "history=model.fitModel(xTrain, yTrain, batchSize, epochs)\n",
    "model.evaluateModel(xTest, yTest)\n",
    "plotLoss(history, epochs,'SGD w/o Momentum')"
   ]
  },
  {
   "cell_type": "code",
   "execution_count": null,
   "metadata": {
    "id": "j9ykgPLy7fso"
   },
   "outputs": [],
   "source": []
  },
  {
   "cell_type": "markdown",
   "metadata": {
    "id": "_Ur6gNw97iWY"
   },
   "source": [
    "# Part 2"
   ]
  },
  {
   "cell_type": "markdown",
   "metadata": {
    "id": "5S2S4A-EG8uL"
   },
   "source": [
    "### MLP using under complete autoencoder as input\n",
    "- **Accuracy**: 96.72\n",
    "- **Accuracy w/o compression**: 97.78"
   ]
  },
  {
   "cell_type": "code",
   "execution_count": null,
   "metadata": {
    "id": "7aI_-tAr7jSQ"
   },
   "outputs": [],
   "source": [
    "class MLP():\n",
    "  def __init__(self,inputShape, kernelInit, codeDim):\n",
    "    self.inputShape=inputShape\n",
    "    self.codeDim=codeDim\n",
    "    self.createModel(kernelInit)\n",
    "\n",
    "  def createModel(self, kernelInit):\n",
    "    inputImg=Input(shape=self.inputShape, name='input')\n",
    "    encoder=Sequential(\n",
    "        [\n",
    "        Input(shape=self.inputShape),\n",
    "        layers.Dense(512, activation='relu', name='encLayer1'),\n",
    "        layers.Dense(256, activation='relu', name='encLayer2'),\n",
    "        layers.Dense(128, activation='relu', name='encLayer3'),\n",
    "        layers.Dense(self.codeDim, activation='linear', name='encLayer4')      \n",
    "        ]\n",
    "    )\n",
    "    latentVector=encoder(inputImg)\n",
    "\n",
    "    model=Sequential(\n",
    "        [\n",
    "        Input(shape=(self.codeDim,), name='input'),\n",
    "        layers.Dense(512, activation='relu', name='layer1', kernel_initializer=kernelInit),\n",
    "        layers.Dense(256, activation='relu', name='layer2', kernel_initializer=kernelInit),\n",
    "        layers.Dense(128, activation='relu', name='layer3', kernel_initializer=kernelInit),\n",
    "        layers.Dense(64, activation='relu', name='layer4', kernel_initializer=kernelInit),\n",
    "        layers.Dense(10, activation='softmax', name='finalLayer', kernel_initializer=kernelInit),\n",
    "        ]\n",
    "    )\n",
    "\n",
    "    mlpOut=model(latentVector)\n",
    "    model=Model(inputs=inputImg, outputs=mlpOut)\n",
    "    self.model=model\n",
    "    return self.model\n",
    "\n",
    "  def compileFunc(self, lossFunc, optim):\n",
    "    self.model.compile(\n",
    "        loss=lossFunc, \n",
    "        optimizer=optim,\n",
    "        metrics=['accuracy']\n",
    "    )\n",
    "\n",
    "  def fitModel(self, xTrain, yTrain, batchSize, epoch):\n",
    "    history=self.model.fit(xTrain, yTrain, batch_size=batchSize, epochs=epoch, verbose=0, validation_split=0.1)\n",
    "    return history\n",
    "\n",
    "  def evaluateModel(self, xTest, yTest):\n",
    "    scores = self.model.evaluate(xTest, yTest, verbose=0)\n",
    "    print(\"Accuracy: \", scores[1])\n",
    "\n",
    "def plotLoss(history, epochs, optim):\n",
    "  plt.figure(figsize=(5,5))\n",
    "  plt.plot(list(range(1, epochs+1)), history.history['loss'], label='Training Loss')\n",
    "  plt.title(optim)\n",
    "  plt.legend()\n",
    "  plt.xlabel('epochs')\n",
    "  plt.ylabel('loss')\n",
    "  plt.show()"
   ]
  },
  {
   "cell_type": "code",
   "execution_count": null,
   "metadata": {
    "colab": {
     "base_uri": "https://localhost:8080/",
     "height": 367
    },
    "id": "X33ok3keCgkM",
    "outputId": "702cfe01-07d3-43f9-abde-b3d644fb76a1"
   },
   "outputs": [
    {
     "name": "stdout",
     "output_type": "stream",
     "text": [
      "Accuracy:  0.967229425907135\n"
     ]
    },
    {
     "data": {
      "image/png": "[encoded data removed]",
      "text/plain": [
       "<Figure size 360x360 with 1 Axes>"
      ]
     },
     "metadata": {
      "needs_background": "light",
      "tags": []
     },
     "output_type": "display_data"
    }
   ],
   "source": [
    "keras.backend.clear_session()\n",
    "\n",
    "loss='categorical_crossentropy'\n",
    "optim=optimizers.SGD(learning_rate=0.1)\n",
    "\n",
    "batchSize=64\n",
    "epochs=10\n",
    "\n",
    "inputShape=(784,)\n",
    "\n",
    "model=MLP(inputShape, None, 64)            #kernel initializer=None\n",
    "model.compileFunc(loss, optim)\n",
    "history=model.fitModel(xTrain, yTrain, batchSize, epochs)\n",
    "model.evaluateModel(xTest, yTest)\n",
    "plotLoss(history, epochs,'SGD w/o Momentum')"
   ]
  }
 ],
 "metadata": {
  "accelerator": "GPU",
  "colab": {
   "collapsed_sections": [
    "s_dwEyswyVMf",
    "TjZ6lyXUYbqR",
    "KQDUz4svLyxY",
    "fo2wC4QzLqVh",
    "O2lATHjp0o76",
    "GZnswL-N0zdF",
    "PRZpDVj302QH",
    "gTBVofD_7nWb",
    "kpSHAY6Z8KvO",
    "fWROmdGc8R2-",
    "5S2S4A-EG8uL"
   ],
   "name": "3_3.ipynb",
   "provenance": []
  },
  "kernelspec": {
   "display_name": "Python 3",
   "language": "python",
   "name": "python3"
  },
  "language_info": {
   "codemirror_mode": {
    "name": "ipython",
    "version": 3
   },
   "file_extension": ".py",
   "mimetype": "text/x-python",
   "name": "python",
   "nbconvert_exporter": "python",
   "pygments_lexer": "ipython3",
   "version": "3.8.5"
  }
 },
 "nbformat": 4,
 "nbformat_minor": 1
}
